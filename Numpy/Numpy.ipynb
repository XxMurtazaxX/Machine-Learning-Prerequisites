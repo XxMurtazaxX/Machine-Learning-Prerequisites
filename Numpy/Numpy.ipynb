{
 "cells": [
  {
   "cell_type": "markdown",
   "id": "fecad6da-7a42-4c2e-bffe-1b5600ca1e34",
   "metadata": {},
   "source": [
    "# My Personal Numpy Reference"
   ]
  },
  {
   "cell_type": "code",
   "execution_count": 2,
   "id": "5d8b4134-e4d5-4020-add7-681f38da1b7b",
   "metadata": {},
   "outputs": [],
   "source": [
    "import numpy as np"
   ]
  },
  {
   "cell_type": "markdown",
   "id": "4c4a2ce4-a328-4f6c-b241-a4e0519f79a0",
   "metadata": {},
   "source": [
    "# **Initialize the matrices / arrays**"
   ]
  },
  {
   "cell_type": "code",
   "execution_count": 6,
   "id": "cdfb8ba9-a87c-4788-b6e6-72c9e6e8f46a",
   "metadata": {},
   "outputs": [],
   "source": [
    "# 2D matrix\n",
    "a = np.array([[1, 2, 3], [2, 4, 6], [6, 12, 24]])\n",
    "\n",
    "# 1D matrix\n",
    "b = np.array([4, 6, 49, 8])\n",
    "x = np.array([6, 4, 3, 2])"
   ]
  },
  {
   "cell_type": "markdown",
   "id": "21129234-317b-463b-8ac3-8f1315d2caad",
   "metadata": {},
   "source": [
    "# Basic Operations on Matrices"
   ]
  },
  {
   "cell_type": "markdown",
   "id": "e15ad934-36f3-45af-84c9-d907cf951d9d",
   "metadata": {},
   "source": [
    "# Adding the Matrices"
   ]
  },
  {
   "cell_type": "code",
   "execution_count": 7,
   "id": "c4c3cf80-5592-48f8-8d67-82915ab163b7",
   "metadata": {},
   "outputs": [
    {
     "name": "stdout",
     "output_type": "stream",
     "text": [
      "[10 10 52 10]\n",
      "\n",
      "[10 10 52 10]\n"
     ]
    }
   ],
   "source": [
    "print(b + x)\n",
    "print()\n",
    "print(np.add(b, x))"
   ]
  },
  {
   "cell_type": "markdown",
   "id": "5c3503ab-8376-4170-82a0-9f4ce25ed593",
   "metadata": {},
   "source": [
    "# Subtracting the Matrices"
   ]
  },
  {
   "cell_type": "code",
   "execution_count": 8,
   "id": "41e06fb2",
   "metadata": {},
   "outputs": [
    {
     "name": "stdout",
     "output_type": "stream",
     "text": [
      "[-2 60 46  6]\n",
      "\n",
      "[-2 60 46  6]\n"
     ]
    }
   ],
   "source": [
    "print(b - x)\n",
    "print()\n",
    "print(np.subtract(b, x))"
   ]
  },
  {
   "cell_type": "markdown",
   "id": "69aab48c-84b0-4326-aa49-a4d628fed11e",
   "metadata": {},
   "source": [
    "# Multiplying the Matrices"
   ]
  },
  {
   "cell_type": "code",
   "execution_count": 9,
   "id": "cdc03c85",
   "metadata": {},
   "outputs": [
    {
     "name": "stdout",
     "output_type": "stream",
     "text": [
      "[ 24 256 147  16]\n",
      "\n",
      "[ 24 256 147  16]\n"
     ]
    }
   ],
   "source": [
    "print(b * x)\n",
    "print()\n",
    "print(np.multiply(x,b))"
   ]
  },
  {
   "cell_type": "markdown",
   "id": "0f4e76b6-651a-4580-af23-d476c9409bcb",
   "metadata": {},
   "source": [
    "# Dividing the Matrices"
   ]
  },
  {
   "cell_type": "code",
   "execution_count": 10,
   "id": "6c7c3fc5",
   "metadata": {
    "scrolled": true
   },
   "outputs": [
    {
     "name": "stdout",
     "output_type": "stream",
     "text": [
      "[ 0.66666667 16.         16.33333333  4.        ]\n",
      "\n",
      "[ 0.66666667 16.         16.33333333  4.        ]\n"
     ]
    }
   ],
   "source": [
    "print(b / x)\n",
    "print()\n",
    "print(np.divide(b, x))"
   ]
  },
  {
   "cell_type": "markdown",
   "id": "4690155f-6424-4d2f-aa78-8a98c8d94577",
   "metadata": {},
   "source": [
    "# Applying Power to the Matrix"
   ]
  },
  {
   "cell_type": "code",
   "execution_count": 11,
   "id": "792ad8be-5138-486a-bf04-3b1e144484c8",
   "metadata": {},
   "outputs": [
    {
     "name": "stdout",
     "output_type": "stream",
     "text": [
      "[2.         8.         7.         2.82842712]\n",
      "\n",
      "[2.         8.         7.         2.82842712]\n"
     ]
    }
   ],
   "source": [
    "print(np.sqrt(b))\n",
    "print()\n",
    "print(np.power(b, 0.5))"
   ]
  },
  {
   "cell_type": "markdown",
   "id": "3c995072-ad86-4902-9829-56c6d226faa3",
   "metadata": {},
   "source": [
    "# Transpose of a Matrix"
   ]
  },
  {
   "cell_type": "code",
   "execution_count": 12,
   "id": "6ec55476-21aa-4b4f-ba85-067bb423cb0f",
   "metadata": {},
   "outputs": [
    {
     "name": "stdout",
     "output_type": "stream",
     "text": [
      "Original Array is: \n",
      "[[ 1  2  3]\n",
      " [ 2  4  6]\n",
      " [ 6 12 24]]\n",
      "\n",
      "Transpose of the matrix is: \n",
      "[[ 1  2  6]\n",
      " [ 2  4 12]\n",
      " [ 3  6 24]]\n"
     ]
    }
   ],
   "source": [
    "print(\"Original Array is: \")\n",
    "print(a)\n",
    "print()\n",
    "print(\"Transpose of the matrix is: \")\n",
    "print(np.transpose(a))"
   ]
  },
  {
   "cell_type": "markdown",
   "id": "1a7ee505-86d8-4dc4-aa0d-9363f8a3c0c9",
   "metadata": {},
   "source": [
    "# Shape / Size of the matrix"
   ]
  },
  {
   "cell_type": "code",
   "execution_count": 18,
   "id": "24eab1df-79c4-4687-97f0-6bd8b881a1bc",
   "metadata": {},
   "outputs": [
    {
     "name": "stdout",
     "output_type": "stream",
     "text": [
      "[5]\n",
      "Size is:  (1,)\n",
      "\n",
      "[1 2 3]\n",
      "Size is:  (3,)\n",
      "\n",
      "[[1 2]\n",
      " [2 4]\n",
      " [1 3]]\n",
      "Size is:  (3, 2)\n"
     ]
    }
   ],
   "source": [
    "array1 = np.array([5])\n",
    "array2 = np.array([1,2,3])\n",
    "array3 = np.array([[1,2],[2,4],[1,3]])\n",
    "\n",
    "print(array1)\n",
    "print(\"Size is: \" , np.shape(array1))\n",
    "\n",
    "print()\n",
    "\n",
    "print(array2)\n",
    "print(\"Size is: \" , np.shape(array2))\n",
    "\n",
    "print()\n",
    "\n",
    "print(array3)\n",
    "print(\"Size is: \" , np.shape(array3))"
   ]
  },
  {
   "cell_type": "markdown",
   "id": "d535853f-ae28-45c2-aefa-596d9eb0e3f1",
   "metadata": {},
   "source": [
    "# DOT Product"
   ]
  },
  {
   "cell_type": "code",
   "execution_count": 24,
   "id": "d8a37ca4-fe12-4033-a70f-7c2e9f7c93e7",
   "metadata": {},
   "outputs": [
    {
     "name": "stdout",
     "output_type": "stream",
     "text": [
      "[6 4 3 2]\n",
      "65\n"
     ]
    }
   ],
   "source": [
    "print(x)\n",
    "print(np.dot(x, x))"
   ]
  },
  {
   "cell_type": "code",
   "execution_count": 16,
   "id": "11893edb-e60b-4311-9d7a-42744c5b9407",
   "metadata": {},
   "outputs": [
    {
     "name": "stdout",
     "output_type": "stream",
     "text": [
      "2\n",
      "3\n"
     ]
    }
   ],
   "source": [
    "data = np.array([[1.5, -0.1, 3], [0, -3, 6.5]])\n",
    "\n",
    "for num in data.shape:\n",
    "    print(num)"
   ]
  }
 ],
 "metadata": {
  "kernelspec": {
   "display_name": "Python 3 (ipykernel)",
   "language": "python",
   "name": "python3"
  },
  "language_info": {
   "codemirror_mode": {
    "name": "ipython",
    "version": 3
   },
   "file_extension": ".py",
   "mimetype": "text/x-python",
   "name": "python",
   "nbconvert_exporter": "python",
   "pygments_lexer": "ipython3",
   "version": "3.12.5"
  }
 },
 "nbformat": 4,
 "nbformat_minor": 5
}
