{
 "cells": [
  {
   "cell_type": "code",
   "execution_count": null,
   "id": "5d806efc-5057-4a92-8e4d-de537e2cdc96",
   "metadata": {},
   "outputs": [],
   "source": [
    "import pandas as pd\n",
    "import matplotlib.pyplot as plt"
   ]
  },
  {
   "cell_type": "markdown",
   "id": "8de38435-2daf-43d3-ab03-fd04fc3a7ca3",
   "metadata": {},
   "source": [
    "# Reading Dataset from current directory"
   ]
  },
  {
   "cell_type": "code",
   "execution_count": null,
   "id": "b8b777c2-fa31-4ee6-a72c-565575f44cee",
   "metadata": {},
   "outputs": [],
   "source": [
    "# Reading CSV file using Pandas read_csv function\n",
    "data = pd.read_csv('matches.csv')"
   ]
  },
  {
   "cell_type": "code",
   "execution_count": null,
   "id": "8cebfe49-5fc7-470b-a1a2-165e18fe504b",
   "metadata": {},
   "outputs": [],
   "source": [
    "data"
   ]
  },
  {
   "cell_type": "code",
   "execution_count": null,
   "id": "500f6207-4f9b-4bf2-addf-516e83ff5155",
   "metadata": {},
   "outputs": [],
   "source": [
    "'''\n",
    "    Convenient way to get a quick overview of your data.\n",
    "    1) Provides the count, mean, standard deviation, minimum\n",
    "    2) 25th percentile (Q1), median (50th percentile or Q2), 75th percentile (Q3)\n",
    "    3) minimum and maximum of the columns\n",
    "'''\n",
    "data.describe()"
   ]
  },
  {
   "cell_type": "code",
   "execution_count": null,
   "id": "3b7218da-ac7e-4708-841c-bafcb90fb98b",
   "metadata": {},
   "outputs": [],
   "source": [
    "# returns shape of the dataset\n",
    "data.shape"
   ]
  },
  {
   "cell_type": "code",
   "execution_count": null,
   "id": "aa17f34c-ee37-41bd-98a0-725ac8278a22",
   "metadata": {},
   "outputs": [],
   "source": [
    "# returns first five records by default if not defined \n",
    "data.head(3)"
   ]
  },
  {
   "cell_type": "code",
   "execution_count": null,
   "id": "279d9e1f-f74a-4537-8cdf-b56a3acad4be",
   "metadata": {},
   "outputs": [],
   "source": [
    "# returns last five records by default if not defined \n",
    "data.tail(3)"
   ]
  },
  {
   "cell_type": "markdown",
   "id": "fa2d5674-421c-45f2-a481-7a108e3f81aa",
   "metadata": {},
   "source": [
    "# Indexing Rows and Columns"
   ]
  },
  {
   "cell_type": "code",
   "execution_count": null,
   "id": "b6f08487-2118-425d-844c-0ab1f4167c71",
   "metadata": {},
   "outputs": [],
   "source": [
    "data.iloc[0] # Fetching single record"
   ]
  },
  {
   "cell_type": "code",
   "execution_count": null,
   "id": "32ea8bd9-a772-4b67-872a-b921cebf74d4",
   "metadata": {},
   "outputs": [],
   "source": [
    "data.iloc[0:5] # Fetching multiple records"
   ]
  },
  {
   "cell_type": "code",
   "execution_count": null,
   "id": "abaea4ca-e831-42a9-b554-cc62de1b5995",
   "metadata": {
    "scrolled": true
   },
   "outputs": [],
   "source": [
    "data.iloc[[8,24,38]] # Fancy Indexing in Pandas (Same as Numpy)"
   ]
  },
  {
   "cell_type": "code",
   "execution_count": null,
   "id": "14740a1c-fee6-465e-a88d-1f751f5539c7",
   "metadata": {},
   "outputs": [],
   "source": [
    "data['winner'] # Extracting Single column:- Series datatype"
   ]
  },
  {
   "cell_type": "code",
   "execution_count": null,
   "id": "8d9b8b1b-f966-4221-b416-43f33dfafdf2",
   "metadata": {},
   "outputs": [],
   "source": [
    "teams_and_winner = data[['team1','team2','winner']] # Extracting three columns:- dataframe datatype"
   ]
  },
  {
   "cell_type": "code",
   "execution_count": null,
   "id": "8f918725-9c96-4706-b801-708fd33d24aa",
   "metadata": {},
   "outputs": [],
   "source": [
    "teams_and_winner"
   ]
  },
  {
   "cell_type": "code",
   "execution_count": null,
   "id": "65873715-28af-4651-846e-40639a175b20",
   "metadata": {},
   "outputs": [],
   "source": [
    "# list of all the teams\n",
    "teams = pd.unique(data['team1'])\n",
    "teams"
   ]
  },
  {
   "cell_type": "code",
   "execution_count": null,
   "id": "1ab37a41-1f94-4e67-b0de-adfcd580897c",
   "metadata": {},
   "outputs": [],
   "source": [
    "test1 = pd.Series([1,-25,-8])\n",
    "test2 = pd.Series([1,5,9])"
   ]
  },
  {
   "cell_type": "code",
   "execution_count": null,
   "id": "e7ece5ba-9f1b-42a8-bc69-9436ce222b5f",
   "metadata": {},
   "outputs": [],
   "source": [
    "test1 + test2"
   ]
  },
  {
   "cell_type": "markdown",
   "id": "04a4ebbf-99bb-4f54-a84c-59ec2c3864fd",
   "metadata": {},
   "source": [
    "# Filtering Dataframe / Conditional Fetching"
   ]
  },
  {
   "cell_type": "code",
   "execution_count": null,
   "id": "67a97d19-990f-4048-8d8f-027db99f1bcb",
   "metadata": {},
   "outputs": [],
   "source": [
    "# Fetching records where team RCB was the winner\n",
    "rcb_win = data[data['winner'] == 'Royal Challengers Bangalore']\n",
    "rcb_win"
   ]
  },
  {
   "cell_type": "markdown",
   "id": "a37a8d67-c371-40dc-aa8b-5a289ed743bd",
   "metadata": {},
   "source": [
    "# Which teams won after winning the toss"
   ]
  },
  {
   "cell_type": "code",
   "execution_count": null,
   "id": "1fec6f43-4cd8-4b98-a1f2-631263e7bff0",
   "metadata": {},
   "outputs": [],
   "source": [
    "# Fetching records\n",
    "filtered_data = data[data['toss_winner'] == data['winner']]"
   ]
  },
  {
   "cell_type": "code",
   "execution_count": null,
   "id": "ae604e37-4569-42bb-ac3f-cb75cfdacbb5",
   "metadata": {},
   "outputs": [],
   "source": [
    "filtered_data"
   ]
  },
  {
   "cell_type": "code",
   "execution_count": null,
   "id": "cc1af926-ff84-4546-bb90-4c8264716fc0",
   "metadata": {},
   "outputs": [],
   "source": [
    "print(\"Count of the matches won by the teams upon winning the tosses\")\n",
    "team_count = filtered_data.value_counts('winner')\n",
    "team_count"
   ]
  },
  {
   "cell_type": "code",
   "execution_count": null,
   "id": "00bf6a9a-9182-4e60-8d42-bc93f1127f43",
   "metadata": {},
   "outputs": [],
   "source": [
    "plt.barh(team_count.index, team_count.values)\n",
    "\n",
    "plt.xlabel('Count')\n",
    "plt.ylabel('Team')\n",
    "plt.title('Matches Won by Toss-Winning Teams')\n",
    "\n",
    "plt.show()"
   ]
  },
  {
   "cell_type": "code",
   "execution_count": null,
   "id": "d15e81be-9baa-4bef-975d-8a97dceac923",
   "metadata": {},
   "outputs": [],
   "source": [
    "team_count[0]"
   ]
  }
 ],
 "metadata": {
  "kernelspec": {
   "display_name": "Python 3 (ipykernel)",
   "language": "python",
   "name": "python3"
  },
  "language_info": {
   "codemirror_mode": {
    "name": "ipython",
    "version": 3
   },
   "file_extension": ".py",
   "mimetype": "text/x-python",
   "name": "python",
   "nbconvert_exporter": "python",
   "pygments_lexer": "ipython3",
   "version": "3.12.5"
  }
 },
 "nbformat": 4,
 "nbformat_minor": 5
}
