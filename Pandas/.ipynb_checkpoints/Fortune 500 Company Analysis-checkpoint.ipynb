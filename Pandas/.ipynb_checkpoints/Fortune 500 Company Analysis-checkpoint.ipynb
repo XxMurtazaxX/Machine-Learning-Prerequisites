{
 "cells": [
  {
   "cell_type": "code",
   "execution_count": 2,
   "id": "e11cb033-a483-4a7b-9aaa-ee3e9cfd70bf",
   "metadata": {},
   "outputs": [],
   "source": [
    "import pandas as pd"
   ]
  },
  {
   "cell_type": "code",
   "execution_count": null,
   "id": "4d6f7d87-bf92-44eb-9069-b9b83c53b4dd",
   "metadata": {},
   "outputs": [],
   "source": [
    "data = pd.read_csv('')"
   ]
  }
 ],
 "metadata": {
  "kernelspec": {
   "display_name": "Python 3 (ipykernel)",
   "language": "python",
   "name": "python3"
  },
  "language_info": {
   "codemirror_mode": {
    "name": "ipython",
    "version": 3
   },
   "file_extension": ".py",
   "mimetype": "text/x-python",
   "name": "python",
   "nbconvert_exporter": "python",
   "pygments_lexer": "ipython3",
   "version": "3.12.5"
  }
 },
 "nbformat": 4,
 "nbformat_minor": 5
}
